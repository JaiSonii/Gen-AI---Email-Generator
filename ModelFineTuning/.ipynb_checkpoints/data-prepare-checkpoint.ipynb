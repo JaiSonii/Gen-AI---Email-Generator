{
 "cells": [
  {
   "cell_type": "markdown",
   "id": "8b13fdc7-9be0-4743-8a73-fcb66e5fa840",
   "metadata": {},
   "source": [
    "### Conversion of the Dataset"
   ]
  },
  {
   "cell_type": "code",
   "execution_count": 9,
   "id": "a2fdf2d1-2c1c-4413-8840-4a2705a71cc5",
   "metadata": {
    "scrolled": true
   },
   "outputs": [
    {
     "name": "stdout",
     "output_type": "stream",
     "text": [
      "Requirement already satisfied: datasets in c:\\users\\jaius\\appdata\\local\\programs\\python\\python312\\lib\\site-packages (4.0.0)\n",
      "Requirement already satisfied: huggingface_hub in c:\\users\\jaius\\appdata\\local\\programs\\python\\python312\\lib\\site-packages (0.34.3)\n",
      "Requirement already satisfied: filelock in c:\\users\\jaius\\appdata\\local\\programs\\python\\python312\\lib\\site-packages (from datasets) (3.13.1)\n",
      "Requirement already satisfied: numpy>=1.17 in c:\\users\\jaius\\appdata\\local\\programs\\python\\python312\\lib\\site-packages (from datasets) (2.1.2)\n",
      "Requirement already satisfied: pyarrow>=15.0.0 in c:\\users\\jaius\\appdata\\local\\programs\\python\\python312\\lib\\site-packages (from datasets) (21.0.0)\n",
      "Requirement already satisfied: dill<0.3.9,>=0.3.0 in c:\\users\\jaius\\appdata\\local\\programs\\python\\python312\\lib\\site-packages (from datasets) (0.3.8)\n",
      "Requirement already satisfied: pandas in c:\\users\\jaius\\appdata\\local\\programs\\python\\python312\\lib\\site-packages (from datasets) (2.3.1)\n",
      "Requirement already satisfied: requests>=2.32.2 in c:\\users\\jaius\\appdata\\local\\programs\\python\\python312\\lib\\site-packages (from datasets) (2.32.4)\n",
      "Requirement already satisfied: tqdm>=4.66.3 in c:\\users\\jaius\\appdata\\local\\programs\\python\\python312\\lib\\site-packages (from datasets) (4.67.1)\n",
      "Requirement already satisfied: xxhash in c:\\users\\jaius\\appdata\\local\\programs\\python\\python312\\lib\\site-packages (from datasets) (3.5.0)\n",
      "Requirement already satisfied: multiprocess<0.70.17 in c:\\users\\jaius\\appdata\\local\\programs\\python\\python312\\lib\\site-packages (from datasets) (0.70.16)\n",
      "Requirement already satisfied: fsspec<=2025.3.0,>=2023.1.0 in c:\\users\\jaius\\appdata\\local\\programs\\python\\python312\\lib\\site-packages (from fsspec[http]<=2025.3.0,>=2023.1.0->datasets) (2024.6.1)\n",
      "Requirement already satisfied: packaging in c:\\users\\jaius\\appdata\\local\\programs\\python\\python312\\lib\\site-packages (from datasets) (25.0)\n",
      "Requirement already satisfied: pyyaml>=5.1 in c:\\users\\jaius\\appdata\\local\\programs\\python\\python312\\lib\\site-packages (from datasets) (6.0.2)\n",
      "Requirement already satisfied: typing-extensions>=3.7.4.3 in c:\\users\\jaius\\appdata\\local\\programs\\python\\python312\\lib\\site-packages (from huggingface_hub) (4.14.1)\n",
      "Requirement already satisfied: aiohttp!=4.0.0a0,!=4.0.0a1 in c:\\users\\jaius\\appdata\\local\\programs\\python\\python312\\lib\\site-packages (from fsspec[http]<=2025.3.0,>=2023.1.0->datasets) (3.12.15)\n",
      "Requirement already satisfied: charset_normalizer<4,>=2 in c:\\users\\jaius\\appdata\\local\\programs\\python\\python312\\lib\\site-packages (from requests>=2.32.2->datasets) (3.4.2)\n",
      "Requirement already satisfied: idna<4,>=2.5 in c:\\users\\jaius\\appdata\\local\\programs\\python\\python312\\lib\\site-packages (from requests>=2.32.2->datasets) (3.10)\n",
      "Requirement already satisfied: urllib3<3,>=1.21.1 in c:\\users\\jaius\\appdata\\local\\programs\\python\\python312\\lib\\site-packages (from requests>=2.32.2->datasets) (2.5.0)\n",
      "Requirement already satisfied: certifi>=2017.4.17 in c:\\users\\jaius\\appdata\\local\\programs\\python\\python312\\lib\\site-packages (from requests>=2.32.2->datasets) (2025.8.3)\n",
      "Requirement already satisfied: colorama in c:\\users\\jaius\\appdata\\local\\programs\\python\\python312\\lib\\site-packages (from tqdm>=4.66.3->datasets) (0.4.6)\n",
      "Requirement already satisfied: python-dateutil>=2.8.2 in c:\\users\\jaius\\appdata\\local\\programs\\python\\python312\\lib\\site-packages (from pandas->datasets) (2.9.0.post0)\n",
      "Requirement already satisfied: pytz>=2020.1 in c:\\users\\jaius\\appdata\\local\\programs\\python\\python312\\lib\\site-packages (from pandas->datasets) (2025.2)\n",
      "Requirement already satisfied: tzdata>=2022.7 in c:\\users\\jaius\\appdata\\local\\programs\\python\\python312\\lib\\site-packages (from pandas->datasets) (2025.2)\n",
      "Requirement already satisfied: aiohappyeyeballs>=2.5.0 in c:\\users\\jaius\\appdata\\local\\programs\\python\\python312\\lib\\site-packages (from aiohttp!=4.0.0a0,!=4.0.0a1->fsspec[http]<=2025.3.0,>=2023.1.0->datasets) (2.6.1)\n",
      "Requirement already satisfied: aiosignal>=1.4.0 in c:\\users\\jaius\\appdata\\local\\programs\\python\\python312\\lib\\site-packages (from aiohttp!=4.0.0a0,!=4.0.0a1->fsspec[http]<=2025.3.0,>=2023.1.0->datasets) (1.4.0)\n",
      "Requirement already satisfied: attrs>=17.3.0 in c:\\users\\jaius\\appdata\\local\\programs\\python\\python312\\lib\\site-packages (from aiohttp!=4.0.0a0,!=4.0.0a1->fsspec[http]<=2025.3.0,>=2023.1.0->datasets) (25.3.0)\n",
      "Requirement already satisfied: frozenlist>=1.1.1 in c:\\users\\jaius\\appdata\\local\\programs\\python\\python312\\lib\\site-packages (from aiohttp!=4.0.0a0,!=4.0.0a1->fsspec[http]<=2025.3.0,>=2023.1.0->datasets) (1.7.0)\n",
      "Requirement already satisfied: multidict<7.0,>=4.5 in c:\\users\\jaius\\appdata\\local\\programs\\python\\python312\\lib\\site-packages (from aiohttp!=4.0.0a0,!=4.0.0a1->fsspec[http]<=2025.3.0,>=2023.1.0->datasets) (6.6.3)\n",
      "Requirement already satisfied: propcache>=0.2.0 in c:\\users\\jaius\\appdata\\local\\programs\\python\\python312\\lib\\site-packages (from aiohttp!=4.0.0a0,!=4.0.0a1->fsspec[http]<=2025.3.0,>=2023.1.0->datasets) (0.3.2)\n",
      "Requirement already satisfied: yarl<2.0,>=1.17.0 in c:\\users\\jaius\\appdata\\local\\programs\\python\\python312\\lib\\site-packages (from aiohttp!=4.0.0a0,!=4.0.0a1->fsspec[http]<=2025.3.0,>=2023.1.0->datasets) (1.20.1)\n",
      "Requirement already satisfied: six>=1.5 in c:\\users\\jaius\\appdata\\local\\programs\\python\\python312\\lib\\site-packages (from python-dateutil>=2.8.2->pandas->datasets) (1.17.0)\n",
      "Note: you may need to restart the kernel to use updated packages.\n"
     ]
    },
    {
     "name": "stderr",
     "output_type": "stream",
     "text": [
      "\n",
      "[notice] A new release of pip is available: 24.0 -> 25.2\n",
      "[notice] To update, run: python.exe -m pip install --upgrade pip\n",
      "UsageError: Line magic function `%huggingface-cli` not found.\n"
     ]
    }
   ],
   "source": [
    "%pip install datasets huggingface_hub"
   ]
  },
  {
   "cell_type": "code",
   "execution_count": 2,
   "id": "dae5b466-aa95-48c3-90f3-dab5ce9534ce",
   "metadata": {},
   "outputs": [
    {
     "name": "stderr",
     "output_type": "stream",
     "text": [
      "C:\\Users\\jaius\\AppData\\Local\\Programs\\Python\\Python312\\Lib\\site-packages\\tqdm\\auto.py:21: TqdmWarning: IProgress not found. Please update jupyter and ipywidgets. See https://ipywidgets.readthedocs.io/en/stable/user_install.html\n",
      "  from .autonotebook import tqdm as notebook_tqdm\n"
     ]
    },
    {
     "name": "stdout",
     "output_type": "stream",
     "text": [
      "DatasetDict({\n",
      "    train: Dataset({\n",
      "        features: ['source_text', 'target_text'],\n",
      "        num_rows: 5579\n",
      "    })\n",
      "})\n"
     ]
    }
   ],
   "source": [
    "from datasets import load_dataset\n",
    "\n",
    "dataset = load_dataset('vmal/jobs_dataset')\n",
    "print(dataset)"
   ]
  },
  {
   "cell_type": "code",
   "execution_count": 4,
   "id": "4ac5e58e-791a-4781-bf45-90cd5ca09fa5",
   "metadata": {},
   "outputs": [
    {
     "name": "stderr",
     "output_type": "stream",
     "text": [
      "Map: 100%|████████████████████████████████████████████████████████████████| 5579/5579 [00:00<00:00, 9719.45 examples/s]\n"
     ]
    }
   ],
   "source": [
    "\n",
    "SYSTEM_PROMPT = \"You are a helpful assistant that extracts structured job information from unstructured job postings.\"\n",
    "\n",
    "def format_for_llama2(example):\n",
    "    return {\n",
    "        \"text\": f\"<s>[INST] <<SYS>>\\n{SYSTEM_PROMPT}\\n<</SYS>>\\n{example['source_text']}\\n[/INST]\\n{example['target_text']}</s>\"\n",
    "    }\n",
    "\n",
    "formatted_dataset = dataset.map(format_for_llama2)\n",
    "\n",
    "# If you only need the 'text' column for training:\n",
    "formatted_dataset = formatted_dataset.remove_columns([col for col in formatted_dataset[\"train\"].column_names if col != \"text\"])"
   ]
  },
  {
   "cell_type": "code",
   "execution_count": 5,
   "id": "0cc6f571-02cc-49fa-8fb7-fd397f68ec8d",
   "metadata": {},
   "outputs": [
    {
     "name": "stdout",
     "output_type": "stream",
     "text": [
      "DatasetDict({\n",
      "    train: Dataset({\n",
      "        features: ['text'],\n",
      "        num_rows: 5579\n",
      "    })\n",
      "})\n"
     ]
    }
   ],
   "source": [
    "print(formatted_dataset)"
   ]
  },
  {
   "cell_type": "code",
   "execution_count": 6,
   "id": "4a1d6fa0-f73e-495d-90b3-6c13e2b6c1b7",
   "metadata": {},
   "outputs": [],
   "source": [
    "formatted_dataset = formatted_dataset['train'].train_test_split(test_size = 0.1)"
   ]
  },
  {
   "cell_type": "code",
   "execution_count": 7,
   "id": "9698e1a3-bf8b-4bc9-b5a5-59502597a7a9",
   "metadata": {},
   "outputs": [
    {
     "name": "stdout",
     "output_type": "stream",
     "text": [
      "DatasetDict({\n",
      "    train: Dataset({\n",
      "        features: ['text'],\n",
      "        num_rows: 5021\n",
      "    })\n",
      "    test: Dataset({\n",
      "        features: ['text'],\n",
      "        num_rows: 558\n",
      "    })\n",
      "})\n"
     ]
    }
   ],
   "source": [
    "print(formatted_dataset)"
   ]
  },
  {
   "cell_type": "markdown",
   "id": "065a1ebe-8f71-4e6a-8d9f-59225a405b80",
   "metadata": {},
   "source": [
    "**Push Dataset to HF**"
   ]
  },
  {
   "cell_type": "code",
   "execution_count": 14,
   "id": "4288215c-fed5-4b36-abec-ae481ac32fb5",
   "metadata": {},
   "outputs": [],
   "source": [
    "from huggingface_hub import login\n",
    "import os\n",
    "\n",
    "login(os.getenv('HF_TOKEN'))"
   ]
  },
  {
   "cell_type": "code",
   "execution_count": 17,
   "id": "5a8cf10a-b33f-4bc1-9fe7-c08a029bc7b2",
   "metadata": {},
   "outputs": [
    {
     "name": "stderr",
     "output_type": "stream",
     "text": [
      "Uploading the dataset shards:   0%|                                                         | 0/1 [00:00<?, ? shards/s]\n",
      "Creating parquet from Arrow format:   0%|                                                        | 0/6 [00:00<?, ?ba/s]\u001b[A\n",
      "Creating parquet from Arrow format: 100%|████████████████████████████████████████████████| 6/6 [00:00<00:00, 42.12ba/s]\u001b[A\n",
      "Uploading the dataset shards: 100%|█████████████████████████████████████████████████| 1/1 [00:06<00:00,  6.35s/ shards]\n",
      "Uploading the dataset shards:   0%|                                                         | 0/1 [00:00<?, ? shards/s]\n",
      "Creating parquet from Arrow format: 100%|████████████████████████████████████████████████| 1/1 [00:00<00:00, 79.56ba/s]\u001b[A\n",
      "Uploading the dataset shards: 100%|█████████████████████████████████████████████████| 1/1 [00:03<00:00,  3.35s/ shards]\n"
     ]
    },
    {
     "data": {
      "text/plain": [
       "CommitInfo(commit_url='https://huggingface.co/datasets/01fragtos/job_text_to_json_llama-2/commit/b6d43c6a15265e6b2848f4629f7c00b2bd8250f3', commit_message='Upload dataset', commit_description='', oid='b6d43c6a15265e6b2848f4629f7c00b2bd8250f3', pr_url=None, repo_url=RepoUrl('https://huggingface.co/datasets/01fragtos/job_text_to_json_llama-2', endpoint='https://huggingface.co', repo_type='dataset', repo_id='01fragtos/job_text_to_json_llama-2'), pr_revision=None, pr_num=None)"
      ]
     },
     "execution_count": 17,
     "metadata": {},
     "output_type": "execute_result"
    }
   ],
   "source": [
    "# Remove columns starting with \"_\"\n",
    "cols_to_remove = [c for c in formatted_dataset.column_names if c.startswith(\"_\")]\n",
    "formatted_dataset = formatted_dataset.remove_columns(cols_to_remove)\n",
    "\n",
    "# Now push to Hub\n",
    "formatted_dataset.push_to_hub(\n",
    "    \"01fragtos/job_text_to_json_llama-2\",\n",
    "    private=False\n",
    ")"
   ]
  },
  {
   "cell_type": "code",
   "execution_count": null,
   "id": "02370320-ac55-4a20-b3de-e11136275ea5",
   "metadata": {},
   "outputs": [],
   "source": []
  }
 ],
 "metadata": {
  "kernelspec": {
   "display_name": "Python 3 (ipykernel)",
   "language": "python",
   "name": "python3"
  },
  "language_info": {
   "codemirror_mode": {
    "name": "ipython",
    "version": 3
   },
   "file_extension": ".py",
   "mimetype": "text/x-python",
   "name": "python",
   "nbconvert_exporter": "python",
   "pygments_lexer": "ipython3",
   "version": "3.12.4"
  }
 },
 "nbformat": 4,
 "nbformat_minor": 5
}
